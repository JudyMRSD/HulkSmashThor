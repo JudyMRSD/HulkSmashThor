{
 "cells": [
  {
   "cell_type": "markdown",
   "metadata": {},
   "source": [
    "# N-step Away"
   ]
  },
  {
   "cell_type": "code",
   "execution_count": 1,
   "metadata": {
    "collapsed": true
   },
   "outputs": [],
   "source": [
    "import networkx as nx\n",
    "import pandas as pd\n",
    "from itertools import repeat\n",
    "import matplotlib\n",
    "%matplotlib inline \n",
    "import matplotlib.pyplot as plt\n",
    "import seaborn as sns\n",
    "sns.set_style(\"ticks\")\n",
    "from scene_loader import THORDiscreteEnvironment as Environment"
   ]
  },
  {
   "cell_type": "markdown",
   "metadata": {},
   "source": [
    "## Determine locations n-step away from targets"
   ]
  },
  {
   "cell_type": "code",
   "execution_count": 2,
   "metadata": {
    "collapsed": true
   },
   "outputs": [],
   "source": [
    "def get_graph(scene_name, action_size=4):\n",
    "    env = Environment({\n",
    "        'scene_name': scene_name,\n",
    "    })\n",
    "    G = nx.DiGraph()\n",
    "    for s in range(env.n_locations):\n",
    "        for a in range(action_size):\n",
    "            next_s = env.transition_graph[s, a]\n",
    "            if next_s >= 0:\n",
    "                G.add_edge(s, next_s)\n",
    "    return G\n",
    "\n",
    "def n_step_away(G, source, dist_list=[1, 2, 4, 8]):\n",
    "    path_len = nx.single_source_shortest_path_length(G, source)\n",
    "    for n in dist_list:\n",
    "        n_away = [str(t) for (t, d)  in path_len.items() if d == n]\n",
    "        print(\"{:d} step away from {:d} = {}\".format(n, source, n_away))"
   ]
  },
  {
   "cell_type": "markdown",
   "metadata": {},
   "source": [
    "### scene: 'bathroom_02'\n",
    "\n",
    "targets: [26, 37, 43, 53, 16, 28, 32, 41]"
   ]
  },
  {
   "cell_type": "code",
   "execution_count": 3,
   "metadata": {
    "collapsed": false
   },
   "outputs": [
    {
     "name": "stdout",
     "output_type": "stream",
     "text": [
      "1 step away from 26 = ['27', '25', '46']\n",
      "2 step away from 26 = ['23', '24', '31', '29', '21', '47', '45', '62']\n",
      "4 step away from 26 = ['40', '12', '14', '42', '60', '48', '50', '32', '34', '39', '37', '55', '53', '59', '67', '65', '57', '87', '85', '110']\n",
      "8 step away from 26 = ['136', '6', '4', '138', '160', '144', '146', '116', '118', '72', '74', '100', '102', '99', '123', '121', '97', '135', '151', '149', '133', '167', '165']\n",
      "================================\n",
      "1 step away from 37 = ['38', '36', '33']\n",
      "2 step away from 37 = ['39', '34', '32', '29']\n",
      "4 step away from 37 = ['31', '2', '19', '17', '55', '53', '70', '68', '0', '50', '48', '26', '24', '21']\n",
      "8 step away from 37 = ['59', '57', '87', '85', '115', '123', '121', '113', '151', '149', '170', '168', '146', '144', '110', '108', '11', '9', '82', '80']\n",
      "================================\n",
      "1 step away from 43 = ['40', '42', '47']\n",
      "2 step away from 43 = ['56', '41', '20', '22', '58', '44', '46', '51']\n",
      "4 step away from 43 = ['104', '81', '83', '61', '63', '49', '25', '27', '13', '15', '106', '84', '86', '64', '28', '30', '66', '52', '54']\n",
      "8 step away from 43 = ['145', '134', '132', '129', '131', '147', '117', '98', '96', '119', '38', '36', '161', '163', '164', '166', '148', '1', '3', '150']\n",
      "================================\n",
      "1 step away from 53 = ['54', '52', '49']\n",
      "2 step away from 53 = ['34', '55', '70', '68', '32', '50', '48', '45']\n",
      "4 step away from 53 = ['2', '19', '17', '31', '39', '37', '29', '47', '67', '65', '95', '93', '118', '116', '0', '90', '88', '26', '62', '60', '24', '42', '40']\n",
      "8 step away from 53 = ['79', '77', '107', '152', '154', '124', '126', '105', '143', '159', '157', '141', '167', '175', '173', '165', '162', '160', '11', '9', '138', '136']\n",
      "================================\n",
      "1 step away from 16 = ['32', '17', '19', '0']\n",
      "2 step away from 16 = ['52', '33', '35', '18', '1', '3']\n",
      "4 step away from 16 = ['92', '69', '71', '54', '49', '51', '38', '36', '30', '28', '25', '27']\n",
      "8 step away from 16 = ['169', '171', '153', '150', '145', '147', '155', '125', '122', '120', '114', '112', '109', '111', '127', '86', '84', '81', '83', '58', '56', '15', '13']\n",
      "================================\n",
      "1 step away from 28 = ['48', '29', '31']\n",
      "2 step away from 28 = ['64', '49', '51', '33', '30', '25', '27', '35']\n",
      "4 step away from 28 = ['112', '89', '91', '69', '66', '61', '63', '71', '54', '52', '46', '44', '41', '43', '38', '36', '18', '16', '22', '20']\n",
      "8 step away from 28 = ['169', '166', '161', '163', '171', '153', '150', '148', '142', '140', '137', '139', '155', '125', '122', '120', '106', '104', '101', '103', '127', '78', '76', '73', '75', '7', '8', '10', '5']\n",
      "================================\n",
      "1 step away from 32 = ['52', '33', '35', '16']\n",
      "2 step away from 32 = ['68', '53', '55', '37', '34', '29', '31', '39', '17', '19', '0']\n",
      "4 step away from 32 = ['116', '93', '95', '70', '65', '67', '50', '48', '45', '47', '2', '26', '24', '21', '23']\n",
      "8 step away from 32 = ['173', '170', '165', '167', '175', '157', '154', '152', '146', '144', '141', '143', '159', '126', '124', '110', '108', '105', '107', '82', '80', '77', '79', '11', '9']\n",
      "================================\n",
      "1 step away from 41 = ['45', '42', '40']\n",
      "2 step away from 41 = ['49', '46', '44', '22', '43', '58', '56', '20']\n",
      "4 step away from 41 = ['54', '52', '30', '51', '66', '64', '28', '27', '25', '63', '61', '86', '84', '15', '13', '83', '81', '106', '104']\n",
      "8 step away from 41 = ['3', '1', '36', '38', '119', '117', '150', '148', '147', '145', '166', '164', '163', '161', '96', '98', '132', '134', '131', '129']\n",
      "================================\n"
     ]
    }
   ],
   "source": [
    "scene_name = 'bathroom_02'\n",
    "G = get_graph(scene_name)\n",
    "for target in ['26', '37', '43', '53', '16', '28', '32', '41']:\n",
    "    n_step_away(G, target)\n",
    "    print(\"================================\")"
   ]
  },
  {
   "cell_type": "markdown",
   "metadata": {},
   "source": [
    "### scene: 'living_room_08'\n",
    "\n",
    "targets: ['92', '135', '193', '228', '132', '251', '303', '13']"
   ]
  },
  {
   "cell_type": "code",
   "execution_count": 29,
   "metadata": {
    "collapsed": false,
    "scrolled": true
   },
   "outputs": [
    {
     "name": "stdout",
     "output_type": "stream",
     "text": [
      "1 step away from 92 = ['104', '93', '95', '80']\n",
      "2 step away from 92 = ['116', '105', '107', '97', '94', '89', '91', '99', '81', '83', '68']\n",
      "4 step away from 92 = ['160', '129', '131', '121', '118', '113', '115', '123', '110', '108', '102', '100', '86', '84', '70', '78', '76', '73', '65', '67', '75', '37', '39', '4']\n",
      "8 step away from 92 = ['256', '245', '247', '237', '234', '229', '231', '239', '210', '208', '202', '200', '173', '170', '168', '175', '142', '140', '53', '50', '48', '14', '12', '55', '17', '19']\n",
      "================================\n",
      "1 step away from 135 = ['131', '132', '134', '139']\n",
      "2 step away from 135 = ['127', '128', '130', '164', '133', '120', '122', '166', '136', '138', '143']\n",
      "4 step away from 135 = ['156', '125', '112', '114', '158', '204', '161', '163', '117', '119', '104', '106', '206', '236', '209', '211', '169', '171', '141', '109', '111', '96', '98', '238', '172', '174']\n",
      "8 step away from 135 = ['252', '241', '243', '77', '79', '64', '66', '254', '272', '257', '259', '69', '71', '36', '38', '274', '292', '277', '279', '185', '182', '180', '187', '41', '43', '8', '10', '294']\n",
      "================================\n",
      "1 step away from 193 = ['197', '194', '192', '189']\n",
      "2 step away from 193 = ['198', '196', '195', '190', '188', '185']\n",
      "4 step away from 193 = ['147', '145', '187', '223', '221', '218', '216', '182', '180', '177']\n",
      "8 step away from 193 = ['171', '143', '141', '138', '136', '166', '164', '161']\n",
      "================================\n",
      "1 step away from 228 = ['240', '229', '231', '200']\n",
      "2 step away from 228 = ['252', '241', '243', '233', '230', '235', '201', '203', '156']\n",
      "4 step away from 228 = ['284', '269', '271', '257', '254', '259', '249', '246', '244', '251', '238', '236', '206', '204', '158', '209', '211', '161', '163', '125', '127', '112']\n",
      "8 step away from 228 = ['393', '395', '349', '346', '351', '313', '310', '308', '315', '294', '292', '122', '120', '106', '104', '90', '177', '174', '172', '138', '136', '179', '141', '143', '109', '111', '93', '95', '77', '79', '64']\n",
      "================================\n",
      "1 step away from 132 = ['164', '133', '135', '120']\n",
      "2 step away from 132 = ['208', '165', '167', '137', '134', '129', '131', '139', '121', '123', '108']\n",
      "4 step away from 132 = ['248', '237', '239', '210', '205', '207', '173', '170', '168', '162', '160', '157', '159', '175', '142', '140', '110', '118', '116', '126', '124', '113', '115', '105', '107', '97', '99', '84']\n",
      "8 step away from 132 = ['312', '293', '295', '278', '273', '275', '258', '256', '253', '255', '242', '240', '189', '186', '184', '214', '212', '191', '42', '70', '68', '78', '76', '65', '67', '45', '37', '39', '47', '9', '11']\n",
      "================================\n",
      "1 step away from 251 = ['247', '248', '250']\n",
      "2 step away from 251 = ['243', '244', '246', '260', '249', '236', '238', '262']\n",
      "4 step away from 251 = ['252', '241', '228', '230', '254', '272', '257', '259', '233', '235', '204', '206', '274', '292', '277', '279', '209', '211', '164', '166', '294']\n",
      "8 step away from 251 = ['344', '305', '307', '125', '127', '112', '114', '346', '396', '349', '351', '117', '119', '104', '106', '398', '428', '401', '403', '357', '359', '321', '318', '316', '323', '177', '174', '172', '138', '136', '179', '141', '143', '109', '111', '96', '98', '430']\n",
      "================================\n",
      "1 step away from 303 = ['300', '302']\n",
      "2 step away from 303 = ['340', '301', '280', '282', '342']\n",
      "4 step away from 303 = ['337', '339', '265', '267']\n",
      "8 step away from 303 = ['387', '385', '419', '417', '414', '412', '382', '380', '326', '324']\n",
      "================================\n",
      "1 step away from 13 = ['17', '14', '12', '9']\n",
      "2 step away from 13 = ['21', '18', '16', '15', '46', '44', '10', '8', '5']\n",
      "4 step away from 13 = ['29', '26', '24', '23', '54', '52', '51', '49', '7', '43', '41', '74', '72', '38', '36', '2', '0']\n",
      "8 step away from 13 = ['79', '77', '95', '93', '111', '109', '122', '120', '106', '104', '90', '88']\n",
      "================================\n"
     ]
    }
   ],
   "source": [
    "scene_name = 'living_room_08'\n",
    "G = get_graph(scene_name)\n",
    "for source in ['92', '135', '193', '228', '132', '251', '303', '13']:\n",
    "    n_step_away(G, int(source))\n",
    "    print(\"================================\")"
   ]
  },
  {
   "cell_type": "markdown",
   "metadata": {},
   "source": [
    "## Results\n",
    "\n",
    "### Table"
   ]
  },
  {
   "cell_type": "code",
   "execution_count": 78,
   "metadata": {
    "collapsed": false
   },
   "outputs": [
    {
     "data": {
      "text/html": [
       "<div>\n",
       "<style>\n",
       "    .dataframe thead tr:only-child th {\n",
       "        text-align: right;\n",
       "    }\n",
       "\n",
       "    .dataframe thead th {\n",
       "        text-align: left;\n",
       "    }\n",
       "\n",
       "    .dataframe tbody tr th {\n",
       "        vertical-align: top;\n",
       "    }\n",
       "</style>\n",
       "<table border=\"1\" class=\"dataframe\">\n",
       "  <thead>\n",
       "    <tr style=\"text-align: right;\">\n",
       "      <th></th>\n",
       "      <th>length</th>\n",
       "      <th>oracle_length</th>\n",
       "      <th>steps</th>\n",
       "      <th>success</th>\n",
       "      <th>targets</th>\n",
       "    </tr>\n",
       "  </thead>\n",
       "  <tbody>\n",
       "    <tr>\n",
       "      <th>0</th>\n",
       "      <td>54.62</td>\n",
       "      <td>12.79</td>\n",
       "      <td>1</td>\n",
       "      <td>0.99</td>\n",
       "      <td>1</td>\n",
       "    </tr>\n",
       "    <tr>\n",
       "      <th>1</th>\n",
       "      <td>142.83</td>\n",
       "      <td>13.27</td>\n",
       "      <td>2</td>\n",
       "      <td>0.92</td>\n",
       "      <td>1</td>\n",
       "    </tr>\n",
       "    <tr>\n",
       "      <th>2</th>\n",
       "      <td>333.84</td>\n",
       "      <td>12.21</td>\n",
       "      <td>4</td>\n",
       "      <td>0.48</td>\n",
       "      <td>1</td>\n",
       "    </tr>\n",
       "    <tr>\n",
       "      <th>3</th>\n",
       "      <td>404.69</td>\n",
       "      <td>11.53</td>\n",
       "      <td>8</td>\n",
       "      <td>0.24</td>\n",
       "      <td>1</td>\n",
       "    </tr>\n",
       "    <tr>\n",
       "      <th>4</th>\n",
       "      <td>65.18</td>\n",
       "      <td>12.78</td>\n",
       "      <td>1</td>\n",
       "      <td>1.00</td>\n",
       "      <td>2</td>\n",
       "    </tr>\n",
       "    <tr>\n",
       "      <th>5</th>\n",
       "      <td>113.98</td>\n",
       "      <td>11.91</td>\n",
       "      <td>2</td>\n",
       "      <td>0.97</td>\n",
       "      <td>2</td>\n",
       "    </tr>\n",
       "    <tr>\n",
       "      <th>6</th>\n",
       "      <td>200.48</td>\n",
       "      <td>12.24</td>\n",
       "      <td>4</td>\n",
       "      <td>0.81</td>\n",
       "      <td>2</td>\n",
       "    </tr>\n",
       "    <tr>\n",
       "      <th>7</th>\n",
       "      <td>368.27</td>\n",
       "      <td>12.10</td>\n",
       "      <td>8</td>\n",
       "      <td>0.39</td>\n",
       "      <td>2</td>\n",
       "    </tr>\n",
       "    <tr>\n",
       "      <th>8</th>\n",
       "      <td>146.24</td>\n",
       "      <td>13.71</td>\n",
       "      <td>1</td>\n",
       "      <td>0.86</td>\n",
       "      <td>4</td>\n",
       "    </tr>\n",
       "    <tr>\n",
       "      <th>9</th>\n",
       "      <td>199.66</td>\n",
       "      <td>13.90</td>\n",
       "      <td>2</td>\n",
       "      <td>0.73</td>\n",
       "      <td>4</td>\n",
       "    </tr>\n",
       "    <tr>\n",
       "      <th>10</th>\n",
       "      <td>237.19</td>\n",
       "      <td>14.43</td>\n",
       "      <td>4</td>\n",
       "      <td>0.64</td>\n",
       "      <td>4</td>\n",
       "    </tr>\n",
       "    <tr>\n",
       "      <th>11</th>\n",
       "      <td>308.19</td>\n",
       "      <td>12.38</td>\n",
       "      <td>8</td>\n",
       "      <td>0.56</td>\n",
       "      <td>4</td>\n",
       "    </tr>\n",
       "    <tr>\n",
       "      <th>12</th>\n",
       "      <td>175.31</td>\n",
       "      <td>14.61</td>\n",
       "      <td>1</td>\n",
       "      <td>0.80</td>\n",
       "      <td>8</td>\n",
       "    </tr>\n",
       "    <tr>\n",
       "      <th>13</th>\n",
       "      <td>228.08</td>\n",
       "      <td>14.94</td>\n",
       "      <td>2</td>\n",
       "      <td>0.69</td>\n",
       "      <td>8</td>\n",
       "    </tr>\n",
       "    <tr>\n",
       "      <th>14</th>\n",
       "      <td>210.70</td>\n",
       "      <td>14.80</td>\n",
       "      <td>4</td>\n",
       "      <td>0.72</td>\n",
       "      <td>8</td>\n",
       "    </tr>\n",
       "    <tr>\n",
       "      <th>15</th>\n",
       "      <td>262.52</td>\n",
       "      <td>13.00</td>\n",
       "      <td>8</td>\n",
       "      <td>0.66</td>\n",
       "      <td>8</td>\n",
       "    </tr>\n",
       "  </tbody>\n",
       "</table>\n",
       "</div>"
      ],
      "text/plain": [
       "    length  oracle_length  steps  success  targets\n",
       "0    54.62          12.79      1     0.99        1\n",
       "1   142.83          13.27      2     0.92        1\n",
       "2   333.84          12.21      4     0.48        1\n",
       "3   404.69          11.53      8     0.24        1\n",
       "4    65.18          12.78      1     1.00        2\n",
       "5   113.98          11.91      2     0.97        2\n",
       "6   200.48          12.24      4     0.81        2\n",
       "7   368.27          12.10      8     0.39        2\n",
       "8   146.24          13.71      1     0.86        4\n",
       "9   199.66          13.90      2     0.73        4\n",
       "10  237.19          14.43      4     0.64        4\n",
       "11  308.19          12.38      8     0.56        4\n",
       "12  175.31          14.61      1     0.80        8\n",
       "13  228.08          14.94      2     0.69        8\n",
       "14  210.70          14.80      4     0.72        8\n",
       "15  262.52          13.00      8     0.66        8"
      ]
     },
     "execution_count": 78,
     "metadata": {},
     "output_type": "execute_result"
    }
   ],
   "source": [
    "run = pd.DataFrame.from_dict({\n",
    "    'targets': [j for i in [1, 2, 4, 8] for j in repeat(i, 4)],\n",
    "    'steps': [1, 2, 4, 8] * 4,\n",
    "    'success':       [0.99, 0.92, 0.48, 0.24,\n",
    "                      1.00, 0.97, 0.81, 0.39,\n",
    "                      0.86, 0.73, 0.64, 0.56,\n",
    "                      0.80, 0.69, 0.72, 0.66],\n",
    "    'length':        [ 54.62, 142.83, 333.84, 404.69,\n",
    "                       65.18, 113.98, 200.48, 368.27,\n",
    "                      146.24, 199.66, 237.19, 308.19,\n",
    "                      175.31, 228.08, 210.70, 262.52],\n",
    "    'oracle_length': [12.79, 13.27, 12.21, 11.53,\n",
    "                      12.78, 11.91, 12.24, 12.10,\n",
    "                      13.71, 13.90, 14.43, 12.38,\n",
    "                      14.61, 14.94, 14.80, 13.00],\n",
    "})\n",
    "run"
   ]
  },
  {
   "cell_type": "code",
   "execution_count": 79,
   "metadata": {
    "collapsed": false
   },
   "outputs": [
    {
     "data": {
      "text/plain": [
       "<matplotlib.legend.Legend at 0x7fe4ae1075c0>"
      ]
     },
     "execution_count": 79,
     "metadata": {},
     "output_type": "execute_result"
    },
    {
     "name": "stderr",
     "output_type": "stream",
     "text": [
      "/usr/lib/anaconda3/lib/python3.6/site-packages/matplotlib/font_manager.py:1297: UserWarning: findfont: Font family ['sans-serif'] not found. Falling back to DejaVu Sans\n",
      "  (prop.get_family(), self.defaultFamily[fontext]))\n"
     ]
    },
    {
     "data": {
      "image/png": "[encoded data removed]",
      "text/plain": [
       "<matplotlib.figure.Figure at 0x7fe4ae107eb8>"
      ]
     },
     "metadata": {},
     "output_type": "display_data"
    }
   ],
   "source": [
    "fig, ax = plt.subplots(figsize=(12, 8))\n",
    "sns.set_palette(sns.color_palette(\"Set2\", n_colors=4))\n",
    "sns.barplot(x=\"targets\", y=\"success\", hue=\"steps\", data=run)\n",
    "ax.set_xlabel('number of trained targets')\n",
    "ax.set_ylabel('new target success rate')\n",
    "ax.axhline(y=0.145, ls=\"dashed\", color=\"black\", linewidth=1.5, zorder=1)\n",
    "plt.legend(title=\"steps from new target\\nto trained targets\")"
   ]
  },
  {
   "cell_type": "code",
   "execution_count": null,
   "metadata": {
    "collapsed": true
   },
   "outputs": [],
   "source": []
  }
 ],
 "metadata": {
  "kernelspec": {
   "display_name": "Python 3",
   "language": "python",
   "name": "python3"
  },
  "language_info": {
   "codemirror_mode": {
    "name": "ipython",
    "version": 3
   },
   "file_extension": ".py",
   "mimetype": "text/x-python",
   "name": "python",
   "nbconvert_exporter": "python",
   "pygments_lexer": "ipython3",
   "version": "3.6.0"
  }
 },
 "nbformat": 4,
 "nbformat_minor": 2
}
